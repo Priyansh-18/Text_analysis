{
 "cells": [
  {
   "cell_type": "code",
   "execution_count": 1,
   "id": "1d04f0ef",
   "metadata": {},
   "outputs": [],
   "source": [
    "import nltk\n",
    "from nltk.tokenize import sent_tokenize, word_tokenize\n"
   ]
  },
  {
   "cell_type": "code",
   "execution_count": 2,
   "id": "9836d657",
   "metadata": {},
   "outputs": [],
   "source": [
    "with open('5664.6.txt', 'r', encoding='utf-8') as file:\n",
    "    text = file.read()"
   ]
  },
  {
   "cell_type": "code",
   "execution_count": 3,
   "id": "5a3d9010",
   "metadata": {},
   "outputs": [
    {
     "data": {
      "text/plain": [
       "1361"
      ]
     },
     "execution_count": 3,
     "metadata": {},
     "output_type": "execute_result"
    }
   ],
   "source": [
    "words = word_tokenize(text)\n",
    "word_count = len(words)\n",
    "Personal_Pronouns_words =  'i','we','my','ours','us'\n",
    "\n",
    "with open('StopWords\\StopWords_All.txt', 'r', encoding='utf-8') as file:\n",
    "    data = file.read()\n",
    "stop = [word for word in data if word.lower() not in Personal_Pronouns_words]\n",
    "\n",
    "filtered_words = [word for word in words if word.lower() not in stop]\n",
    "filtered_score = len(filtered_words)\n",
    "filtered_score"
   ]
  },
  {
   "cell_type": "code",
   "execution_count": 4,
   "id": "a74e879d",
   "metadata": {},
   "outputs": [
    {
     "data": {
      "text/plain": [
       "616"
      ]
     },
     "execution_count": 4,
     "metadata": {},
     "output_type": "execute_result"
    }
   ],
   "source": [
    "with open('positive-words.txt', 'r', encoding='utf-8') as file:\n",
    "    positive = file.read()\n",
    "    \n",
    "positive_words = [word for word in filtered_words if word.lower() in positive]\n",
    "positive_score = len(positive_words)\n",
    "positive_score"
   ]
  },
  {
   "cell_type": "code",
   "execution_count": 5,
   "id": "d2fce945",
   "metadata": {},
   "outputs": [
    {
     "data": {
      "text/plain": [
       "672"
      ]
     },
     "execution_count": 5,
     "metadata": {},
     "output_type": "execute_result"
    }
   ],
   "source": [
    "with open('negative-words.txt', 'r') as file:\n",
    "    negative = file.read()\n",
    "    \n",
    "negative_words = [word for word in filtered_words if word.lower() in negative]\n",
    "negative_score = len(negative_words)\n",
    "negative_score"
   ]
  },
  {
   "cell_type": "code",
   "execution_count": 6,
   "id": "4000f122",
   "metadata": {},
   "outputs": [
    {
     "data": {
      "text/plain": [
       "-0.0434782608358088"
      ]
     },
     "execution_count": 6,
     "metadata": {},
     "output_type": "execute_result"
    }
   ],
   "source": [
    "Polarity_Score = (positive_score-negative_score)/ ((positive_score + negative_score) + 0.000001)\n",
    "Polarity_Score"
   ]
  },
  {
   "cell_type": "code",
   "execution_count": 7,
   "id": "5efe8f36",
   "metadata": {},
   "outputs": [
    {
     "data": {
      "text/plain": [
       "0.9463629677102402"
      ]
     },
     "execution_count": 7,
     "metadata": {},
     "output_type": "execute_result"
    }
   ],
   "source": [
    "Subjectivity_Score = (positive_score + negative_score)/ ((filtered_score) + 0.000001)\n",
    "Subjectivity_Score"
   ]
  },
  {
   "cell_type": "code",
   "execution_count": 8,
   "id": "12c54e75",
   "metadata": {},
   "outputs": [
    {
     "data": {
      "text/plain": [
       "55"
      ]
     },
     "execution_count": 8,
     "metadata": {},
     "output_type": "execute_result"
    }
   ],
   "source": [
    "sentences = sent_tokenize(text)\n",
    "sentence_score = len(sentences)\n",
    "sentence_score"
   ]
  },
  {
   "cell_type": "code",
   "execution_count": 9,
   "id": "5a12bab1",
   "metadata": {},
   "outputs": [
    {
     "data": {
      "text/plain": [
       "24.745454545454546"
      ]
     },
     "execution_count": 9,
     "metadata": {},
     "output_type": "execute_result"
    }
   ],
   "source": [
    "Average_Sentence_Length = filtered_score / sentence_score\n",
    "Average_Sentence_Length"
   ]
  },
  {
   "cell_type": "code",
   "execution_count": 10,
   "id": "9fe25871",
   "metadata": {},
   "outputs": [
    {
     "data": {
      "text/plain": [
       "1102"
      ]
     },
     "execution_count": 10,
     "metadata": {},
     "output_type": "execute_result"
    }
   ],
   "source": [
    "complex_words = [word for word in filtered_words if len(word) > 2]\n",
    "complex_words_score = len(complex_words)\n",
    "complex_words_score"
   ]
  },
  {
   "cell_type": "code",
   "execution_count": 11,
   "id": "50a99431",
   "metadata": {},
   "outputs": [
    {
     "data": {
      "text/plain": [
       "0.8096987509184423"
      ]
     },
     "execution_count": 11,
     "metadata": {},
     "output_type": "execute_result"
    }
   ],
   "source": [
    "Percentage_Complex_words = complex_words_score/filtered_score\n",
    "Percentage_Complex_words"
   ]
  },
  {
   "cell_type": "code",
   "execution_count": 12,
   "id": "c35bb63a",
   "metadata": {},
   "outputs": [
    {
     "data": {
      "text/plain": [
       "10.222061318549196"
      ]
     },
     "execution_count": 12,
     "metadata": {},
     "output_type": "execute_result"
    }
   ],
   "source": [
    "Fog_Index = 0.4 * (Average_Sentence_Length + Percentage_Complex_words)\n",
    "Fog_Index"
   ]
  },
  {
   "cell_type": "code",
   "execution_count": 13,
   "id": "4db5d85f",
   "metadata": {},
   "outputs": [
    {
     "data": {
      "text/plain": [
       "24.745454545454546"
      ]
     },
     "execution_count": 13,
     "metadata": {},
     "output_type": "execute_result"
    }
   ],
   "source": [
    "Average_Words_Per_Sentence = filtered_score / sentence_score\n",
    "Average_Words_Per_Sentence"
   ]
  },
  {
   "cell_type": "code",
   "execution_count": 23,
   "id": "66f9a3a5",
   "metadata": {},
   "outputs": [],
   "source": [
    "punctuations = '?','!',',','.'\n",
    "cleaned_words = [word for word in filtered_words if word.lower() not in punctuations]\n",
    "cleaned_word_count = len(cleand_words)\n"
   ]
  },
  {
   "cell_type": "code",
   "execution_count": 14,
   "id": "b9dd447e",
   "metadata": {},
   "outputs": [
    {
     "data": {
      "text/plain": [
       "1.9735488611315208"
      ]
     },
     "execution_count": 14,
     "metadata": {},
     "output_type": "execute_result"
    }
   ],
   "source": [
    "temp = 0\n",
    "def syllable_score(word):\n",
    "    word = word.lower()\n",
    "    count = 0\n",
    "    vowels = 'aeiouy'\n",
    "    for i in range(0, len(word)):\n",
    "        if word[i] in vowels:\n",
    "            count += 1\n",
    "    if word.endswith('es' or 'ed'):\n",
    "        count -= 1\n",
    "    \n",
    "    return count\n",
    "\n",
    "for i in filtered_words:\n",
    "    temp += syllable_score(i)\n",
    "    \n",
    "\n",
    "syllables_per_word = temp / filtered_score\n",
    "syllables_per_word"
   ]
  },
  {
   "cell_type": "code",
   "execution_count": 15,
   "id": "8fe2c500",
   "metadata": {},
   "outputs": [
    {
     "data": {
      "text/plain": [
       "7"
      ]
     },
     "execution_count": 15,
     "metadata": {},
     "output_type": "execute_result"
    }
   ],
   "source": [
    "Personal_Pronouns_score = 0\n",
    "\n",
    "for i in filtered_words:\n",
    "    if i in Personal_Pronouns_words:\n",
    "        Personal_Pronouns_score += 1\n",
    "Personal_Pronouns_score\n",
    "\n"
   ]
  },
  {
   "cell_type": "code",
   "execution_count": 16,
   "id": "85f19103",
   "metadata": {},
   "outputs": [
    {
     "data": {
      "text/plain": [
       "6915"
      ]
     },
     "execution_count": 16,
     "metadata": {},
     "output_type": "execute_result"
    }
   ],
   "source": [
    "total_character  = 0\n",
    "for i in filtered_words:\n",
    "    for j in i:\n",
    "        total_character += 1\n",
    "total_character\n",
    "    "
   ]
  },
  {
   "cell_type": "code",
   "execution_count": 17,
   "id": "97081f3b",
   "metadata": {},
   "outputs": [
    {
     "data": {
      "text/plain": [
       "5.080822924320353"
      ]
     },
     "execution_count": 17,
     "metadata": {},
     "output_type": "execute_result"
    }
   ],
   "source": [
    "Average_Word_Length = total_character/filtered_score\n",
    "Average_Word_Length"
   ]
  }
 ],
 "metadata": {
  "kernelspec": {
   "display_name": "Python 3 (ipykernel)",
   "language": "python",
   "name": "python3"
  },
  "language_info": {
   "codemirror_mode": {
    "name": "ipython",
    "version": 3
   },
   "file_extension": ".py",
   "mimetype": "text/x-python",
   "name": "python",
   "nbconvert_exporter": "python",
   "pygments_lexer": "ipython3",
   "version": "3.10.9"
  }
 },
 "nbformat": 4,
 "nbformat_minor": 5
}
